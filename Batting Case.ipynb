{
 "cells": [
  {
   "cell_type": "markdown",
   "metadata": {},
   "source": [
    "#### Batting Case\n",
    "\n",
    "##### John Yin"
   ]
  },
  {
   "cell_type": "code",
   "execution_count": 1,
   "metadata": {},
   "outputs": [],
   "source": [
    "# Loading Libs\n",
    "import numpy as np\n",
    "import pandas as pd\n",
    "%matplotlib inline\n",
    "import matplotlib\n",
    "import matplotlib.pyplot as plt\n",
    "import seaborn as sns\n",
    "from pandas.tools.plotting import scatter_matrix"
   ]
  },
  {
   "cell_type": "code",
   "execution_count": 2,
   "metadata": {},
   "outputs": [],
   "source": [
    "pd.set_option('display.max_columns', None)\n",
    "pd.set_option('display.max_rows', None)"
   ]
  },
  {
   "cell_type": "markdown",
   "metadata": {},
   "source": [
    "###### Download data from R\n",
    "\n",
    "library(Lahman)\n",
    "\n",
    "head(Batting)\n",
    "\n"
   ]
  },
  {
   "cell_type": "code",
   "execution_count": 4,
   "metadata": {},
   "outputs": [
    {
     "data": {
      "text/html": [
       "<div>\n",
       "<style scoped>\n",
       "    .dataframe tbody tr th:only-of-type {\n",
       "        vertical-align: middle;\n",
       "    }\n",
       "\n",
       "    .dataframe tbody tr th {\n",
       "        vertical-align: top;\n",
       "    }\n",
       "\n",
       "    .dataframe thead th {\n",
       "        text-align: right;\n",
       "    }\n",
       "</style>\n",
       "<table border=\"1\" class=\"dataframe\">\n",
       "  <thead>\n",
       "    <tr style=\"text-align: right;\">\n",
       "      <th></th>\n",
       "      <th>playerID</th>\n",
       "      <th>yearID</th>\n",
       "      <th>stint</th>\n",
       "      <th>teamID</th>\n",
       "      <th>lgID</th>\n",
       "      <th>G</th>\n",
       "      <th>AB</th>\n",
       "      <th>R</th>\n",
       "      <th>H</th>\n",
       "      <th>X2B</th>\n",
       "      <th>X3B</th>\n",
       "      <th>HR</th>\n",
       "      <th>RBI</th>\n",
       "      <th>SB</th>\n",
       "      <th>CS</th>\n",
       "      <th>BB</th>\n",
       "      <th>SO</th>\n",
       "      <th>IBB</th>\n",
       "      <th>HBP</th>\n",
       "      <th>SH</th>\n",
       "      <th>SF</th>\n",
       "      <th>GIDP</th>\n",
       "    </tr>\n",
       "  </thead>\n",
       "  <tbody>\n",
       "    <tr>\n",
       "      <th>1</th>\n",
       "      <td>abercda01</td>\n",
       "      <td>1871</td>\n",
       "      <td>1</td>\n",
       "      <td>TRO</td>\n",
       "      <td>NaN</td>\n",
       "      <td>1</td>\n",
       "      <td>4</td>\n",
       "      <td>0</td>\n",
       "      <td>0</td>\n",
       "      <td>0</td>\n",
       "      <td>0</td>\n",
       "      <td>0</td>\n",
       "      <td>0.0</td>\n",
       "      <td>0.0</td>\n",
       "      <td>0.0</td>\n",
       "      <td>0</td>\n",
       "      <td>0.0</td>\n",
       "      <td>NaN</td>\n",
       "      <td>NaN</td>\n",
       "      <td>NaN</td>\n",
       "      <td>NaN</td>\n",
       "      <td>NaN</td>\n",
       "    </tr>\n",
       "    <tr>\n",
       "      <th>2</th>\n",
       "      <td>addybo01</td>\n",
       "      <td>1871</td>\n",
       "      <td>1</td>\n",
       "      <td>RC1</td>\n",
       "      <td>NaN</td>\n",
       "      <td>25</td>\n",
       "      <td>118</td>\n",
       "      <td>30</td>\n",
       "      <td>32</td>\n",
       "      <td>6</td>\n",
       "      <td>0</td>\n",
       "      <td>0</td>\n",
       "      <td>13.0</td>\n",
       "      <td>8.0</td>\n",
       "      <td>1.0</td>\n",
       "      <td>4</td>\n",
       "      <td>0.0</td>\n",
       "      <td>NaN</td>\n",
       "      <td>NaN</td>\n",
       "      <td>NaN</td>\n",
       "      <td>NaN</td>\n",
       "      <td>NaN</td>\n",
       "    </tr>\n",
       "    <tr>\n",
       "      <th>3</th>\n",
       "      <td>allisar01</td>\n",
       "      <td>1871</td>\n",
       "      <td>1</td>\n",
       "      <td>CL1</td>\n",
       "      <td>NaN</td>\n",
       "      <td>29</td>\n",
       "      <td>137</td>\n",
       "      <td>28</td>\n",
       "      <td>40</td>\n",
       "      <td>4</td>\n",
       "      <td>5</td>\n",
       "      <td>0</td>\n",
       "      <td>19.0</td>\n",
       "      <td>3.0</td>\n",
       "      <td>1.0</td>\n",
       "      <td>2</td>\n",
       "      <td>5.0</td>\n",
       "      <td>NaN</td>\n",
       "      <td>NaN</td>\n",
       "      <td>NaN</td>\n",
       "      <td>NaN</td>\n",
       "      <td>NaN</td>\n",
       "    </tr>\n",
       "    <tr>\n",
       "      <th>4</th>\n",
       "      <td>allisdo01</td>\n",
       "      <td>1871</td>\n",
       "      <td>1</td>\n",
       "      <td>WS3</td>\n",
       "      <td>NaN</td>\n",
       "      <td>27</td>\n",
       "      <td>133</td>\n",
       "      <td>28</td>\n",
       "      <td>44</td>\n",
       "      <td>10</td>\n",
       "      <td>2</td>\n",
       "      <td>2</td>\n",
       "      <td>27.0</td>\n",
       "      <td>1.0</td>\n",
       "      <td>1.0</td>\n",
       "      <td>0</td>\n",
       "      <td>2.0</td>\n",
       "      <td>NaN</td>\n",
       "      <td>NaN</td>\n",
       "      <td>NaN</td>\n",
       "      <td>NaN</td>\n",
       "      <td>NaN</td>\n",
       "    </tr>\n",
       "    <tr>\n",
       "      <th>5</th>\n",
       "      <td>ansonca01</td>\n",
       "      <td>1871</td>\n",
       "      <td>1</td>\n",
       "      <td>RC1</td>\n",
       "      <td>NaN</td>\n",
       "      <td>25</td>\n",
       "      <td>120</td>\n",
       "      <td>29</td>\n",
       "      <td>39</td>\n",
       "      <td>11</td>\n",
       "      <td>3</td>\n",
       "      <td>0</td>\n",
       "      <td>16.0</td>\n",
       "      <td>6.0</td>\n",
       "      <td>2.0</td>\n",
       "      <td>2</td>\n",
       "      <td>1.0</td>\n",
       "      <td>NaN</td>\n",
       "      <td>NaN</td>\n",
       "      <td>NaN</td>\n",
       "      <td>NaN</td>\n",
       "      <td>NaN</td>\n",
       "    </tr>\n",
       "  </tbody>\n",
       "</table>\n",
       "</div>"
      ],
      "text/plain": [
       "    playerID  yearID  stint teamID lgID   G   AB   R   H  X2B  X3B  HR   RBI  \\\n",
       "1  abercda01    1871      1    TRO  NaN   1    4   0   0    0    0   0   0.0   \n",
       "2   addybo01    1871      1    RC1  NaN  25  118  30  32    6    0   0  13.0   \n",
       "3  allisar01    1871      1    CL1  NaN  29  137  28  40    4    5   0  19.0   \n",
       "4  allisdo01    1871      1    WS3  NaN  27  133  28  44   10    2   2  27.0   \n",
       "5  ansonca01    1871      1    RC1  NaN  25  120  29  39   11    3   0  16.0   \n",
       "\n",
       "    SB   CS  BB   SO  IBB  HBP  SH  SF  GIDP  \n",
       "1  0.0  0.0   0  0.0  NaN  NaN NaN NaN   NaN  \n",
       "2  8.0  1.0   4  0.0  NaN  NaN NaN NaN   NaN  \n",
       "3  3.0  1.0   2  5.0  NaN  NaN NaN NaN   NaN  \n",
       "4  1.0  1.0   0  2.0  NaN  NaN NaN NaN   NaN  \n",
       "5  6.0  2.0   2  1.0  NaN  NaN NaN NaN   NaN  "
      ]
     },
     "execution_count": 4,
     "metadata": {},
     "output_type": "execute_result"
    }
   ],
   "source": [
    "# Loading Data\n",
    "batting = pd.read_csv(file_path, sep='\\t', header = 0,  encoding='latin-1')\n",
    "\n",
    "batting.head()"
   ]
  },
  {
   "cell_type": "raw",
   "metadata": {},
   "source": [
    "Dictionary\n",
    "\n",
    "playerID       Player ID code\n",
    "yearID         Year\n",
    "stint          player's stint (order of appearances within a season)\n",
    "teamID         Team\n",
    "lgID           League\n",
    "G              Games\n",
    "AB             At Bats\n",
    "R              Runs\n",
    "H              Hits\n",
    "2B             Doubles\n",
    "3B             Triples\n",
    "HR             Homeruns\n",
    "RBI            Runs Batted In\n",
    "SB             Stolen Bases\n",
    "CS             Caught Stealing\n",
    "BB             Base on Balls\n",
    "SO             Strikeouts\n",
    "IBB            Intentional walks\n",
    "HBP            Hit by pitch\n",
    "SH             Sacrifice hits\n",
    "SF             Sacrifice flies\n",
    "GIDP           Grounded into double plays"
   ]
  },
  {
   "cell_type": "code",
   "execution_count": 5,
   "metadata": {
    "scrolled": true
   },
   "outputs": [
    {
     "data": {
      "text/html": [
       "<div>\n",
       "<style scoped>\n",
       "    .dataframe tbody tr th:only-of-type {\n",
       "        vertical-align: middle;\n",
       "    }\n",
       "\n",
       "    .dataframe tbody tr th {\n",
       "        vertical-align: top;\n",
       "    }\n",
       "\n",
       "    .dataframe thead th {\n",
       "        text-align: right;\n",
       "    }\n",
       "</style>\n",
       "<table border=\"1\" class=\"dataframe\">\n",
       "  <thead>\n",
       "    <tr style=\"text-align: right;\">\n",
       "      <th></th>\n",
       "      <th>yearID</th>\n",
       "      <th>stint</th>\n",
       "      <th>G</th>\n",
       "      <th>AB</th>\n",
       "      <th>R</th>\n",
       "      <th>H</th>\n",
       "      <th>X2B</th>\n",
       "      <th>X3B</th>\n",
       "      <th>HR</th>\n",
       "      <th>RBI</th>\n",
       "      <th>SB</th>\n",
       "      <th>CS</th>\n",
       "      <th>BB</th>\n",
       "      <th>SO</th>\n",
       "      <th>IBB</th>\n",
       "      <th>HBP</th>\n",
       "      <th>SH</th>\n",
       "      <th>SF</th>\n",
       "      <th>GIDP</th>\n",
       "    </tr>\n",
       "  </thead>\n",
       "  <tbody>\n",
       "    <tr>\n",
       "      <th>count</th>\n",
       "      <td>102816.000000</td>\n",
       "      <td>102816.000000</td>\n",
       "      <td>102816.000000</td>\n",
       "      <td>102816.000000</td>\n",
       "      <td>102816.000000</td>\n",
       "      <td>102816.000000</td>\n",
       "      <td>102816.000000</td>\n",
       "      <td>102816.000000</td>\n",
       "      <td>102816.000000</td>\n",
       "      <td>102392.000000</td>\n",
       "      <td>101516.000000</td>\n",
       "      <td>79360.000000</td>\n",
       "      <td>102816.000000</td>\n",
       "      <td>94978.000000</td>\n",
       "      <td>66251.000000</td>\n",
       "      <td>100006.000000</td>\n",
       "      <td>96478.000000</td>\n",
       "      <td>66782.000000</td>\n",
       "      <td>76706.000000</td>\n",
       "    </tr>\n",
       "    <tr>\n",
       "      <th>mean</th>\n",
       "      <td>1964.262313</td>\n",
       "      <td>1.077838</td>\n",
       "      <td>51.343439</td>\n",
       "      <td>141.905511</td>\n",
       "      <td>18.815544</td>\n",
       "      <td>37.139930</td>\n",
       "      <td>6.289167</td>\n",
       "      <td>1.293252</td>\n",
       "      <td>2.813599</td>\n",
       "      <td>17.003975</td>\n",
       "      <td>2.976821</td>\n",
       "      <td>1.226008</td>\n",
       "      <td>13.067207</td>\n",
       "      <td>20.529712</td>\n",
       "      <td>1.105870</td>\n",
       "      <td>1.056057</td>\n",
       "      <td>2.299540</td>\n",
       "      <td>1.054101</td>\n",
       "      <td>2.981018</td>\n",
       "    </tr>\n",
       "    <tr>\n",
       "      <th>std</th>\n",
       "      <td>38.856297</td>\n",
       "      <td>0.284366</td>\n",
       "      <td>47.121658</td>\n",
       "      <td>184.654492</td>\n",
       "      <td>28.242983</td>\n",
       "      <td>52.603757</td>\n",
       "      <td>9.662468</td>\n",
       "      <td>2.645770</td>\n",
       "      <td>6.304919</td>\n",
       "      <td>26.352011</td>\n",
       "      <td>7.717174</td>\n",
       "      <td>2.747377</td>\n",
       "      <td>20.746460</td>\n",
       "      <td>28.328542</td>\n",
       "      <td>2.780187</td>\n",
       "      <td>2.276251</td>\n",
       "      <td>4.241095</td>\n",
       "      <td>1.961732</td>\n",
       "      <td>4.735153</td>\n",
       "    </tr>\n",
       "    <tr>\n",
       "      <th>min</th>\n",
       "      <td>1871.000000</td>\n",
       "      <td>1.000000</td>\n",
       "      <td>1.000000</td>\n",
       "      <td>0.000000</td>\n",
       "      <td>0.000000</td>\n",
       "      <td>0.000000</td>\n",
       "      <td>0.000000</td>\n",
       "      <td>0.000000</td>\n",
       "      <td>0.000000</td>\n",
       "      <td>0.000000</td>\n",
       "      <td>0.000000</td>\n",
       "      <td>0.000000</td>\n",
       "      <td>0.000000</td>\n",
       "      <td>0.000000</td>\n",
       "      <td>0.000000</td>\n",
       "      <td>0.000000</td>\n",
       "      <td>0.000000</td>\n",
       "      <td>0.000000</td>\n",
       "      <td>0.000000</td>\n",
       "    </tr>\n",
       "    <tr>\n",
       "      <th>25%</th>\n",
       "      <td>1934.000000</td>\n",
       "      <td>1.000000</td>\n",
       "      <td>13.000000</td>\n",
       "      <td>4.000000</td>\n",
       "      <td>0.000000</td>\n",
       "      <td>0.000000</td>\n",
       "      <td>0.000000</td>\n",
       "      <td>0.000000</td>\n",
       "      <td>0.000000</td>\n",
       "      <td>0.000000</td>\n",
       "      <td>0.000000</td>\n",
       "      <td>0.000000</td>\n",
       "      <td>0.000000</td>\n",
       "      <td>1.000000</td>\n",
       "      <td>0.000000</td>\n",
       "      <td>0.000000</td>\n",
       "      <td>0.000000</td>\n",
       "      <td>0.000000</td>\n",
       "      <td>0.000000</td>\n",
       "    </tr>\n",
       "    <tr>\n",
       "      <th>50%</th>\n",
       "      <td>1973.000000</td>\n",
       "      <td>1.000000</td>\n",
       "      <td>34.000000</td>\n",
       "      <td>49.000000</td>\n",
       "      <td>4.000000</td>\n",
       "      <td>9.000000</td>\n",
       "      <td>1.000000</td>\n",
       "      <td>0.000000</td>\n",
       "      <td>0.000000</td>\n",
       "      <td>3.000000</td>\n",
       "      <td>0.000000</td>\n",
       "      <td>0.000000</td>\n",
       "      <td>3.000000</td>\n",
       "      <td>9.000000</td>\n",
       "      <td>0.000000</td>\n",
       "      <td>0.000000</td>\n",
       "      <td>0.000000</td>\n",
       "      <td>0.000000</td>\n",
       "      <td>0.000000</td>\n",
       "    </tr>\n",
       "    <tr>\n",
       "      <th>75%</th>\n",
       "      <td>1998.000000</td>\n",
       "      <td>1.000000</td>\n",
       "      <td>80.000000</td>\n",
       "      <td>231.000000</td>\n",
       "      <td>27.000000</td>\n",
       "      <td>58.000000</td>\n",
       "      <td>9.000000</td>\n",
       "      <td>1.000000</td>\n",
       "      <td>2.000000</td>\n",
       "      <td>24.000000</td>\n",
       "      <td>2.000000</td>\n",
       "      <td>1.000000</td>\n",
       "      <td>18.000000</td>\n",
       "      <td>29.000000</td>\n",
       "      <td>1.000000</td>\n",
       "      <td>1.000000</td>\n",
       "      <td>3.000000</td>\n",
       "      <td>1.000000</td>\n",
       "      <td>4.000000</td>\n",
       "    </tr>\n",
       "    <tr>\n",
       "      <th>max</th>\n",
       "      <td>2016.000000</td>\n",
       "      <td>5.000000</td>\n",
       "      <td>165.000000</td>\n",
       "      <td>716.000000</td>\n",
       "      <td>192.000000</td>\n",
       "      <td>262.000000</td>\n",
       "      <td>67.000000</td>\n",
       "      <td>36.000000</td>\n",
       "      <td>73.000000</td>\n",
       "      <td>191.000000</td>\n",
       "      <td>138.000000</td>\n",
       "      <td>42.000000</td>\n",
       "      <td>232.000000</td>\n",
       "      <td>223.000000</td>\n",
       "      <td>120.000000</td>\n",
       "      <td>51.000000</td>\n",
       "      <td>67.000000</td>\n",
       "      <td>19.000000</td>\n",
       "      <td>36.000000</td>\n",
       "    </tr>\n",
       "  </tbody>\n",
       "</table>\n",
       "</div>"
      ],
      "text/plain": [
       "              yearID          stint              G             AB  \\\n",
       "count  102816.000000  102816.000000  102816.000000  102816.000000   \n",
       "mean     1964.262313       1.077838      51.343439     141.905511   \n",
       "std        38.856297       0.284366      47.121658     184.654492   \n",
       "min      1871.000000       1.000000       1.000000       0.000000   \n",
       "25%      1934.000000       1.000000      13.000000       4.000000   \n",
       "50%      1973.000000       1.000000      34.000000      49.000000   \n",
       "75%      1998.000000       1.000000      80.000000     231.000000   \n",
       "max      2016.000000       5.000000     165.000000     716.000000   \n",
       "\n",
       "                   R              H            X2B            X3B  \\\n",
       "count  102816.000000  102816.000000  102816.000000  102816.000000   \n",
       "mean       18.815544      37.139930       6.289167       1.293252   \n",
       "std        28.242983      52.603757       9.662468       2.645770   \n",
       "min         0.000000       0.000000       0.000000       0.000000   \n",
       "25%         0.000000       0.000000       0.000000       0.000000   \n",
       "50%         4.000000       9.000000       1.000000       0.000000   \n",
       "75%        27.000000      58.000000       9.000000       1.000000   \n",
       "max       192.000000     262.000000      67.000000      36.000000   \n",
       "\n",
       "                  HR            RBI             SB            CS  \\\n",
       "count  102816.000000  102392.000000  101516.000000  79360.000000   \n",
       "mean        2.813599      17.003975       2.976821      1.226008   \n",
       "std         6.304919      26.352011       7.717174      2.747377   \n",
       "min         0.000000       0.000000       0.000000      0.000000   \n",
       "25%         0.000000       0.000000       0.000000      0.000000   \n",
       "50%         0.000000       3.000000       0.000000      0.000000   \n",
       "75%         2.000000      24.000000       2.000000      1.000000   \n",
       "max        73.000000     191.000000     138.000000     42.000000   \n",
       "\n",
       "                  BB            SO           IBB            HBP            SH  \\\n",
       "count  102816.000000  94978.000000  66251.000000  100006.000000  96478.000000   \n",
       "mean       13.067207     20.529712      1.105870       1.056057      2.299540   \n",
       "std        20.746460     28.328542      2.780187       2.276251      4.241095   \n",
       "min         0.000000      0.000000      0.000000       0.000000      0.000000   \n",
       "25%         0.000000      1.000000      0.000000       0.000000      0.000000   \n",
       "50%         3.000000      9.000000      0.000000       0.000000      0.000000   \n",
       "75%        18.000000     29.000000      1.000000       1.000000      3.000000   \n",
       "max       232.000000    223.000000    120.000000      51.000000     67.000000   \n",
       "\n",
       "                 SF          GIDP  \n",
       "count  66782.000000  76706.000000  \n",
       "mean       1.054101      2.981018  \n",
       "std        1.961732      4.735153  \n",
       "min        0.000000      0.000000  \n",
       "25%        0.000000      0.000000  \n",
       "50%        0.000000      0.000000  \n",
       "75%        1.000000      4.000000  \n",
       "max       19.000000     36.000000  "
      ]
     },
     "execution_count": 5,
     "metadata": {},
     "output_type": "execute_result"
    }
   ],
   "source": [
    "batting.describe()"
   ]
  },
  {
   "cell_type": "code",
   "execution_count": 6,
   "metadata": {
    "scrolled": true
   },
   "outputs": [
    {
     "data": {
      "text/plain": [
       "playerID        0\n",
       "yearID          0\n",
       "stint           0\n",
       "teamID          0\n",
       "lgID          737\n",
       "G               0\n",
       "AB              0\n",
       "R               0\n",
       "H               0\n",
       "X2B             0\n",
       "X3B             0\n",
       "HR              0\n",
       "RBI           424\n",
       "SB           1300\n",
       "CS          23456\n",
       "BB              0\n",
       "SO           7838\n",
       "IBB         36565\n",
       "HBP          2810\n",
       "SH           6338\n",
       "SF          36034\n",
       "GIDP        26110\n",
       "dtype: int64"
      ]
     },
     "execution_count": 6,
     "metadata": {},
     "output_type": "execute_result"
    }
   ],
   "source": [
    "# Count Missing Data\n",
    "batting.apply(lambda x: sum(x.isnull()),axis=0)"
   ]
  },
  {
   "cell_type": "code",
   "execution_count": 7,
   "metadata": {},
   "outputs": [],
   "source": [
    "# Filter out year before 2000, AB=0 and SB is null\n",
    "bat= batting[(batting.yearID>=2000)& (batting.AB!=0)&(batting.SB is not None)]"
   ]
  },
  {
   "cell_type": "code",
   "execution_count": 8,
   "metadata": {},
   "outputs": [],
   "source": [
    "# Group by teamID and yearID, get sum of SB and AB\n",
    "batsum = bat.groupby([\"teamID\", \"yearID\"]).agg({'SB':'sum', 'AB':'sum'}).reset_index()"
   ]
  },
  {
   "cell_type": "code",
   "execution_count": 9,
   "metadata": {},
   "outputs": [],
   "source": [
    "# Calculate Stolen Base Per at Bat\n",
    "stolenBasePerBat = 100 *batsum['SB']/batsum['AB']"
   ]
  },
  {
   "cell_type": "code",
   "execution_count": 10,
   "metadata": {},
   "outputs": [],
   "source": [
    "batsum['stolenBasePerBat'] = stolenBasePerBat"
   ]
  },
  {
   "cell_type": "code",
   "execution_count": 11,
   "metadata": {},
   "outputs": [
    {
     "data": {
      "text/html": [
       "<div>\n",
       "<style scoped>\n",
       "    .dataframe tbody tr th:only-of-type {\n",
       "        vertical-align: middle;\n",
       "    }\n",
       "\n",
       "    .dataframe tbody tr th {\n",
       "        vertical-align: top;\n",
       "    }\n",
       "\n",
       "    .dataframe thead th {\n",
       "        text-align: right;\n",
       "    }\n",
       "</style>\n",
       "<table border=\"1\" class=\"dataframe\">\n",
       "  <thead>\n",
       "    <tr style=\"text-align: right;\">\n",
       "      <th></th>\n",
       "      <th>yearID</th>\n",
       "      <th>SB</th>\n",
       "      <th>AB</th>\n",
       "      <th>stolenBasePerBat</th>\n",
       "    </tr>\n",
       "  </thead>\n",
       "  <tbody>\n",
       "    <tr>\n",
       "      <th>count</th>\n",
       "      <td>510.000000</td>\n",
       "      <td>510.000000</td>\n",
       "      <td>510.000000</td>\n",
       "      <td>510.000000</td>\n",
       "    </tr>\n",
       "    <tr>\n",
       "      <th>mean</th>\n",
       "      <td>2008.000000</td>\n",
       "      <td>93.954902</td>\n",
       "      <td>5541.686275</td>\n",
       "      <td>1.696055</td>\n",
       "    </tr>\n",
       "    <tr>\n",
       "      <th>std</th>\n",
       "      <td>4.903789</td>\n",
       "      <td>30.438510</td>\n",
       "      <td>78.394622</td>\n",
       "      <td>0.550998</td>\n",
       "    </tr>\n",
       "    <tr>\n",
       "      <th>min</th>\n",
       "      <td>2000.000000</td>\n",
       "      <td>19.000000</td>\n",
       "      <td>5294.000000</td>\n",
       "      <td>0.343954</td>\n",
       "    </tr>\n",
       "    <tr>\n",
       "      <th>25%</th>\n",
       "      <td>2004.000000</td>\n",
       "      <td>71.000000</td>\n",
       "      <td>5487.000000</td>\n",
       "      <td>1.280531</td>\n",
       "    </tr>\n",
       "    <tr>\n",
       "      <th>50%</th>\n",
       "      <td>2008.000000</td>\n",
       "      <td>91.000000</td>\n",
       "      <td>5542.000000</td>\n",
       "      <td>1.631392</td>\n",
       "    </tr>\n",
       "    <tr>\n",
       "      <th>75%</th>\n",
       "      <td>2012.000000</td>\n",
       "      <td>114.750000</td>\n",
       "      <td>5596.000000</td>\n",
       "      <td>2.067084</td>\n",
       "    </tr>\n",
       "    <tr>\n",
       "      <th>max</th>\n",
       "      <td>2016.000000</td>\n",
       "      <td>200.000000</td>\n",
       "      <td>5769.000000</td>\n",
       "      <td>3.568243</td>\n",
       "    </tr>\n",
       "  </tbody>\n",
       "</table>\n",
       "</div>"
      ],
      "text/plain": [
       "            yearID          SB           AB  stolenBasePerBat\n",
       "count   510.000000  510.000000   510.000000        510.000000\n",
       "mean   2008.000000   93.954902  5541.686275          1.696055\n",
       "std       4.903789   30.438510    78.394622          0.550998\n",
       "min    2000.000000   19.000000  5294.000000          0.343954\n",
       "25%    2004.000000   71.000000  5487.000000          1.280531\n",
       "50%    2008.000000   91.000000  5542.000000          1.631392\n",
       "75%    2012.000000  114.750000  5596.000000          2.067084\n",
       "max    2016.000000  200.000000  5769.000000          3.568243"
      ]
     },
     "execution_count": 11,
     "metadata": {},
     "output_type": "execute_result"
    }
   ],
   "source": [
    "batsum.describe()"
   ]
  },
  {
   "cell_type": "code",
   "execution_count": 12,
   "metadata": {
    "scrolled": true
   },
   "outputs": [
    {
     "data": {
      "text/html": [
       "<div>\n",
       "<style scoped>\n",
       "    .dataframe tbody tr th:only-of-type {\n",
       "        vertical-align: middle;\n",
       "    }\n",
       "\n",
       "    .dataframe tbody tr th {\n",
       "        vertical-align: top;\n",
       "    }\n",
       "\n",
       "    .dataframe thead th {\n",
       "        text-align: right;\n",
       "    }\n",
       "</style>\n",
       "<table border=\"1\" class=\"dataframe\">\n",
       "  <thead>\n",
       "    <tr style=\"text-align: right;\">\n",
       "      <th></th>\n",
       "      <th>teamID</th>\n",
       "      <th>yearID</th>\n",
       "      <th>SB</th>\n",
       "      <th>AB</th>\n",
       "      <th>stolenBasePerBat</th>\n",
       "    </tr>\n",
       "  </thead>\n",
       "  <tbody>\n",
       "    <tr>\n",
       "      <th>318</th>\n",
       "      <td>NYN</td>\n",
       "      <td>2007</td>\n",
       "      <td>200.0</td>\n",
       "      <td>5605</td>\n",
       "      <td>3.568243</td>\n",
       "    </tr>\n",
       "    <tr>\n",
       "      <th>456</th>\n",
       "      <td>TBA</td>\n",
       "      <td>2009</td>\n",
       "      <td>194.0</td>\n",
       "      <td>5462</td>\n",
       "      <td>3.551813</td>\n",
       "    </tr>\n",
       "    <tr>\n",
       "      <th>271</th>\n",
       "      <td>MIL</td>\n",
       "      <td>2016</td>\n",
       "      <td>181.0</td>\n",
       "      <td>5330</td>\n",
       "      <td>3.395872</td>\n",
       "    </tr>\n",
       "    <tr>\n",
       "      <th>177</th>\n",
       "      <td>FLO</td>\n",
       "      <td>2002</td>\n",
       "      <td>177.0</td>\n",
       "      <td>5496</td>\n",
       "      <td>3.220524</td>\n",
       "    </tr>\n",
       "    <tr>\n",
       "      <th>457</th>\n",
       "      <td>TBA</td>\n",
       "      <td>2010</td>\n",
       "      <td>172.0</td>\n",
       "      <td>5439</td>\n",
       "      <td>3.162346</td>\n",
       "    </tr>\n",
       "  </tbody>\n",
       "</table>\n",
       "</div>"
      ],
      "text/plain": [
       "    teamID  yearID     SB    AB  stolenBasePerBat\n",
       "318    NYN    2007  200.0  5605          3.568243\n",
       "456    TBA    2009  194.0  5462          3.551813\n",
       "271    MIL    2016  181.0  5330          3.395872\n",
       "177    FLO    2002  177.0  5496          3.220524\n",
       "457    TBA    2010  172.0  5439          3.162346"
      ]
     },
     "execution_count": 12,
     "metadata": {},
     "output_type": "execute_result"
    }
   ],
   "source": [
    "bat_sorted = batsum.sort_values('stolenBasePerBat',ascending=False)\n",
    "bat_sorted.head(5)"
   ]
  },
  {
   "cell_type": "markdown",
   "metadata": {},
   "source": [
    "So the top 5 teams with largest stolen bases per bat ratio since 2000 are:\n",
    "NYN, TBA, MIL, FLO and TBA"
   ]
  },
  {
   "cell_type": "code",
   "execution_count": 13,
   "metadata": {},
   "outputs": [],
   "source": [
    "# Group by year, with sum of SB.per.AB\n",
    "batyear = bat.groupby([\"yearID\"]).agg({'SB':'sum', 'AB':'sum'}).reset_index()"
   ]
  },
  {
   "cell_type": "code",
   "execution_count": 14,
   "metadata": {},
   "outputs": [],
   "source": [
    "SBperAB = 100 *batyear['SB']/batyear['AB']\n",
    "batyear['SBperAB'] = SBperAB"
   ]
  },
  {
   "cell_type": "code",
   "execution_count": 15,
   "metadata": {},
   "outputs": [
    {
     "data": {
      "text/html": [
       "<div>\n",
       "<style scoped>\n",
       "    .dataframe tbody tr th:only-of-type {\n",
       "        vertical-align: middle;\n",
       "    }\n",
       "\n",
       "    .dataframe tbody tr th {\n",
       "        vertical-align: top;\n",
       "    }\n",
       "\n",
       "    .dataframe thead th {\n",
       "        text-align: right;\n",
       "    }\n",
       "</style>\n",
       "<table border=\"1\" class=\"dataframe\">\n",
       "  <thead>\n",
       "    <tr style=\"text-align: right;\">\n",
       "      <th></th>\n",
       "      <th>yearID</th>\n",
       "      <th>SB</th>\n",
       "      <th>AB</th>\n",
       "      <th>SBperAB</th>\n",
       "    </tr>\n",
       "  </thead>\n",
       "  <tbody>\n",
       "    <tr>\n",
       "      <th>0</th>\n",
       "      <td>2000</td>\n",
       "      <td>2924.0</td>\n",
       "      <td>167290</td>\n",
       "      <td>1.747863</td>\n",
       "    </tr>\n",
       "    <tr>\n",
       "      <th>1</th>\n",
       "      <td>2001</td>\n",
       "      <td>3103.0</td>\n",
       "      <td>166234</td>\n",
       "      <td>1.866646</td>\n",
       "    </tr>\n",
       "    <tr>\n",
       "      <th>2</th>\n",
       "      <td>2002</td>\n",
       "      <td>2750.0</td>\n",
       "      <td>165582</td>\n",
       "      <td>1.660809</td>\n",
       "    </tr>\n",
       "    <tr>\n",
       "      <th>3</th>\n",
       "      <td>2003</td>\n",
       "      <td>2572.0</td>\n",
       "      <td>166737</td>\n",
       "      <td>1.542549</td>\n",
       "    </tr>\n",
       "    <tr>\n",
       "      <th>4</th>\n",
       "      <td>2004</td>\n",
       "      <td>2588.0</td>\n",
       "      <td>167353</td>\n",
       "      <td>1.546432</td>\n",
       "    </tr>\n",
       "  </tbody>\n",
       "</table>\n",
       "</div>"
      ],
      "text/plain": [
       "   yearID      SB      AB   SBperAB\n",
       "0    2000  2924.0  167290  1.747863\n",
       "1    2001  3103.0  166234  1.866646\n",
       "2    2002  2750.0  165582  1.660809\n",
       "3    2003  2572.0  166737  1.542549\n",
       "4    2004  2588.0  167353  1.546432"
      ]
     },
     "execution_count": 15,
     "metadata": {},
     "output_type": "execute_result"
    }
   ],
   "source": [
    "batyear.head()"
   ]
  },
  {
   "cell_type": "code",
   "execution_count": 16,
   "metadata": {
    "scrolled": true
   },
   "outputs": [
    {
     "data": {
      "image/png": "[encoded data removed]",
      "text/plain": [
       "<matplotlib.figure.Figure at 0x216241ce828>"
      ]
     },
     "metadata": {},
     "output_type": "display_data"
    }
   ],
   "source": [
    "plt.plot(batyear['yearID'],batyear['SBperAB'], marker='.', markersize=5)\n",
    "plt.title('SB.per.AB vs Year')\n",
    "plt.xlabel('Year')\n",
    "plt.ylabel('SB/AB')\n",
    "plt.show()"
   ]
  },
  {
   "cell_type": "code",
   "execution_count": 17,
   "metadata": {},
   "outputs": [],
   "source": [
    "from sklearn import linear_model\n",
    "from sklearn.linear_model import LinearRegression\n",
    "from sklearn.model_selection import GridSearchCV\n",
    "from sklearn.linear_model import Lasso\n",
    "from sklearn.model_selection import cross_val_score\n",
    "from sklearn.metrics import mean_squared_error, r2_score\n",
    "from sklearn.metrics import mean_absolute_error\n",
    "from sklearn.model_selection import train_test_split\n"
   ]
  },
  {
   "cell_type": "markdown",
   "metadata": {},
   "source": [
    "###### Split X and Y"
   ]
  },
  {
   "cell_type": "code",
   "execution_count": 18,
   "metadata": {},
   "outputs": [],
   "source": [
    "x = batyear.yearID\n",
    "y = batyear.SBperAB"
   ]
  },
  {
   "cell_type": "code",
   "execution_count": 19,
   "metadata": {
    "scrolled": true
   },
   "outputs": [
    {
     "data": {
      "text/plain": [
       "((17,), (17,))"
      ]
     },
     "execution_count": 19,
     "metadata": {},
     "output_type": "execute_result"
    }
   ],
   "source": [
    "x.shape, y.shape"
   ]
  },
  {
   "cell_type": "markdown",
   "metadata": {},
   "source": [
    "###### Split train and test"
   ]
  },
  {
   "cell_type": "code",
   "execution_count": 20,
   "metadata": {},
   "outputs": [
    {
     "data": {
      "text/plain": [
       "((13,), (4,))"
      ]
     },
     "execution_count": 20,
     "metadata": {},
     "output_type": "execute_result"
    }
   ],
   "source": [
    "x_train_set, x_test_set = train_test_split(x, test_size=0.2, random_state=42)\n",
    "y_train_set, y_test_set = train_test_split(y, test_size=0.2, random_state=42)\n",
    "\n",
    "x_train_set.shape, x_test_set.shape"
   ]
  },
  {
   "cell_type": "code",
   "execution_count": 21,
   "metadata": {
    "scrolled": true
   },
   "outputs": [
    {
     "data": {
      "text/plain": [
       "((13, 1), (4, 1))"
      ]
     },
     "execution_count": 21,
     "metadata": {},
     "output_type": "execute_result"
    }
   ],
   "source": [
    "x_train = np.array(x_train_set).reshape(-1,1)\n",
    "x_test = np.array(x_test_set).reshape(-1,1)\n",
    "\n",
    "x_train.shape, x_test.shape"
   ]
  },
  {
   "cell_type": "markdown",
   "metadata": {},
   "source": [
    "###### Linear Regression Model (one Variable)"
   ]
  },
  {
   "cell_type": "code",
   "execution_count": 26,
   "metadata": {
    "scrolled": true
   },
   "outputs": [
    {
     "name": "stdout",
     "output_type": "stream",
     "text": [
      "Coefficients: \n",
      " [ 0.00808672]\n",
      "Mean squared error: 0.03\n",
      "Variance score: -0.63\n"
     ]
    },
    {
     "data": {
      "image/png": "[encoded data removed]",
      "text/plain": [
       "<matplotlib.figure.Figure at 0x2162454e240>"
      ]
     },
     "metadata": {},
     "output_type": "display_data"
    }
   ],
   "source": [
    "regr = linear_model.LinearRegression()\n",
    "\n",
    "regr.fit(x_train, y_train_set)\n",
    "\n",
    "y_pred = regr.predict(x_test)\n",
    "\n",
    "print('Coefficients: \\n', regr.coef_)\n",
    "print(\"Mean squared error: %.2f\"\n",
    "      % mean_squared_error(y_test_set, y_pred))\n",
    "print('Variance score: %.2f' % r2_score(y_test_set, y_pred))\n",
    "\n",
    "plt.scatter(x_test, y_test_set,  color='black')\n",
    "plt.plot(x_test, y_pred, color='blue', linewidth=3)\n",
    "\n",
    "plt.xticks(())\n",
    "plt.yticks(())\n",
    "\n",
    "plt.show()"
   ]
  },
  {
   "cell_type": "markdown",
   "metadata": {},
   "source": [
    "Not Good for using linear regression model"
   ]
  },
  {
   "cell_type": "markdown",
   "metadata": {},
   "source": [
    "Would try to use Time Series for next step"
   ]
  },
  {
   "cell_type": "code",
   "execution_count": null,
   "metadata": {},
   "outputs": [],
   "source": [
    "if batting.playerID == 'donnepe01':\n",
    "    for yr in yearID:\n",
    "        print (PlayerID, yearID)\n",
    "\n",
    "playyears =  batting[(batting.playerID == 'donnepe01')][['playerID', 'yearID']]"
   ]
  },
  {
   "cell_type": "code",
   "execution_count": null,
   "metadata": {},
   "outputs": [],
   "source": [
    "def getplayer (playerID):\n",
    "    col_name = ['playerID', 'yearID']\n",
    "    playeryears = pd.DataFrame()\n",
    "\n",
    "    for ID in batting.playerID:\n",
    "        if ID == playerID\n",
    "    #     print([batting.playerID, batting.yearID])\n",
    "        playeryears.append([batting.playerID], [batting.yearID])\n",
    "        \n",
    "    "
   ]
  },
  {
   "cell_type": "code",
   "execution_count": null,
   "metadata": {},
   "outputs": [],
   "source": [
    "#sort\n",
    "# activeYears = []\n",
    "st= playyears.agg({'yearID':'min'})\n",
    "def activeYear (playerID):\n",
    "    playeryear = playyears.loc[playyears['playerID']==playerID].sort_values('yearID',ascending=False)\n",
    "    for yearID in playeryear:\n",
    "        cout = 0\n",
    "        year = iter(batting.yearID)\n",
    "        for yr in year:\n",
    "            while yr+1 == next(year):\n",
    "                count=+1\n",
    "                if yr+1 != next(year):\n",
    "                    print (playerID, count)\n"
   ]
  },
  {
   "cell_type": "code",
   "execution_count": null,
   "metadata": {},
   "outputs": [],
   "source": []
  }
 ],
 "metadata": {
  "kernelspec": {
   "display_name": "Python 3",
   "language": "python",
   "name": "python3"
  },
  "language_info": {
   "codemirror_mode": {
    "name": "ipython",
    "version": 3
   },
   "file_extension": ".py",
   "mimetype": "text/x-python",
   "name": "python",
   "nbconvert_exporter": "python",
   "pygments_lexer": "ipython3",
   "version": "3.6.1"
  }
 },
 "nbformat": 4,
 "nbformat_minor": 1
}
