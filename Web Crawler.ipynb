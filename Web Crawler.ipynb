{
 "cells": [
  {
   "cell_type": "code",
   "execution_count": 2,
   "metadata": {},
   "outputs": [],
   "source": [
    "from urllib.request import urlopen\n",
    "from bs4 import BeautifulSoup"
   ]
  },
  {
   "cell_type": "code",
   "execution_count": 4,
   "metadata": {},
   "outputs": [
    {
     "name": "stdout",
     "output_type": "stream",
     "text": [
      "理财\n",
      "众筹\n",
      "保险\n",
      "白条\n",
      "股票\n",
      "东家财富\n",
      "企业金融\n",
      "金融云\n",
      "城市计算\n",
      "\n",
      "\n"
     ]
    }
   ],
   "source": [
    "html = urlopen('http://jr.jd.com')\n",
    "bs_obj= BeautifulSoup(html.read(),'html.parser')\n",
    "text_list = bs_obj.find_all(\"a\", \"nav-item-primary\")\n",
    "for text in text_list:\n",
    "    print(text.get_text())\n",
    "html.close()"
   ]
  },
  {
   "cell_type": "code",
   "execution_count": null,
   "metadata": {},
   "outputs": [],
   "source": []
  }
 ],
 "metadata": {
  "kernelspec": {
   "display_name": "Python 3",
   "language": "python",
   "name": "python3"
  },
  "language_info": {
   "codemirror_mode": {
    "name": "ipython",
    "version": 3
   },
   "file_extension": ".py",
   "mimetype": "text/x-python",
   "name": "python",
   "nbconvert_exporter": "python",
   "pygments_lexer": "ipython3",
   "version": "3.6.1"
  }
 },
 "nbformat": 4,
 "nbformat_minor": 2
}
